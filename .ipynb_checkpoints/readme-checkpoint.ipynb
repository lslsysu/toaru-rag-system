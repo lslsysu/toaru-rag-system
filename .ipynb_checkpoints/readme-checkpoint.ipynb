{
 "cells": [
  {
   "cell_type": "markdown",
   "id": "73f4f1d9-a780-45e4-9444-c1e289e6c67c",
   "metadata": {},
   "source": [
    "# Environments"
   ]
  },
  {
   "cell_type": "code",
   "execution_count": 1,
   "id": "6500e494-e63f-44ab-af70-991ae70d4045",
   "metadata": {},
   "outputs": [],
   "source": [
    "from dotenv import load_dotenv\n",
    "import os\n",
    "\n",
    "load_dotenv()\n",
    "\n",
    "# API configuration\n",
    "API_KEY = os.getenv(\"API_KEY\")\n",
    "BASE_URL = 'https://api.zhizengzeng.com/v1'\n",
    "\n",
    "# for LangChain\n",
    "os.environ[\"OPENAI_API_KEY\"] = API_KEY\n",
    "os.environ[\"OPENAI_API_BASE\"] = BASE_URL"
   ]
  },
  {
   "cell_type": "markdown",
   "id": "e912b68040648dfb",
   "metadata": {},
   "source": [
    "# 1 数据处理和LOAD"
   ]
  },
  {
   "cell_type": "markdown",
   "id": "d3387a735e278841",
   "metadata": {},
   "source": [
    "## 《魔法禁书目录》"
   ]
  },
  {
   "cell_type": "markdown",
   "id": "cabb1ce102abe14f",
   "metadata": {},
   "source": [
    "资源来自：https://github.com/1204244136/index-X 汉化内容保存在每本的OEBPS/Text/*.html文件中\n",
    "\n",
    "编写脚本`extract.py`提取每本书的OEBPS文件夹"
   ]
  },
  {
   "cell_type": "code",
   "execution_count": 2,
   "id": "d302f88601b24681",
   "metadata": {},
   "outputs": [
    {
     "name": "stdout",
     "output_type": "stream",
     "text": [
      "共加载了 1133 个 HTML 文档\n"
     ]
    }
   ],
   "source": [
    "from langchain.document_loaders import DirectoryLoader, UnstructuredHTMLLoader\n",
    "\n",
    "loader = DirectoryLoader(path=\"books/toaru/\", glob=\"**/OEBPS/Text/*.xhtml\", loader_cls=UnstructuredHTMLLoader)\n",
    "\n",
    "documents = loader.load()\n",
    "\n",
    "print(f\"共加载了 {len(documents)} 个 HTML 文档\")"
   ]
  },
  {
   "cell_type": "code",
   "execution_count": 3,
   "id": "4d3b2c28-36f4-4668-8646-b603ee81f22d",
   "metadata": {},
   "outputs": [
    {
     "name": "stdout",
     "output_type": "stream",
     "text": [
      "唯一内容数: 956\n"
     ]
    }
   ],
   "source": [
    "# 检查是否有重复文档\n",
    "print(f\"唯一内容数: {len(set([doc.page_content for doc in documents]))}\")"
   ]
  },
  {
   "cell_type": "code",
   "execution_count": 4,
   "id": "746c8d05-2a7f-431a-9c81-84167292058e",
   "metadata": {},
   "outputs": [
    {
     "name": "stdout",
     "output_type": "stream",
     "text": [
      "原始文档数量: 1133\n",
      "去重后文档数量: 956\n"
     ]
    }
   ],
   "source": [
    "# 去重\n",
    "unique_documents = []\n",
    "seen_contents = set()\n",
    "\n",
    "for doc in documents:\n",
    "    content = doc.page_content.strip()\n",
    "    if content not in seen_contents:\n",
    "        unique_documents.append(doc)\n",
    "        seen_contents.add(content)\n",
    "\n",
    "print(f\"原始文档数量: {len(documents)}\")\n",
    "print(f\"去重后文档数量: {len(unique_documents)}\")"
   ]
  },
  {
   "cell_type": "code",
   "execution_count": 5,
   "id": "614c293e-1e94-4526-8863-1b7c004560a0",
   "metadata": {},
   "outputs": [
    {
     "name": "stdout",
     "output_type": "stream",
     "text": [
      "22358\n"
     ]
    }
   ],
   "source": [
    "# 查看文档token数目\n",
    "print(len(unique_documents[13].page_content))"
   ]
  },
  {
   "cell_type": "markdown",
   "id": "7f083bb1-aacf-46e3-a17c-437580459794",
   "metadata": {},
   "source": [
    "# 2 Split"
   ]
  },
  {
   "cell_type": "code",
   "execution_count": 6,
   "id": "5f466c8d-66f9-48fd-ac14-b37a25092859",
   "metadata": {},
   "outputs": [],
   "source": [
    "# Split\n",
    "from langchain.text_splitter import RecursiveCharacterTextSplitter\n",
    "text_splitter = RecursiveCharacterTextSplitter.from_tiktoken_encoder(chunk_size=1000, chunk_overlap=100)\n",
    "\n",
    "# Make splits\n",
    "splits = text_splitter.split_documents(unique_documents)"
   ]
  },
  {
   "cell_type": "code",
   "execution_count": 9,
   "id": "45134175-8f32-44bb-a9e7-01d2cba0d7ef",
   "metadata": {},
   "outputs": [
    {
     "name": "stdout",
     "output_type": "stream",
     "text": [
      "427\n"
     ]
    }
   ],
   "source": [
    "print(len(splits[13].page_content))"
   ]
  },
  {
   "cell_type": "markdown",
   "id": "be34f9ae-a6b0-41bb-8fad-dbc5e82dca8e",
   "metadata": {},
   "source": [
    "# 3 vectordb"
   ]
  },
  {
   "cell_type": "code",
   "execution_count": 8,
   "id": "902fad23-23f8-4cfb-b0e7-b5deb9729f26",
   "metadata": {},
   "outputs": [
    {
     "ename": "InternalServerError",
     "evalue": "<html>\r\n<head><title>504 Gateway Time-out</title></head>\r\n<body>\r\n<center><h1>504 Gateway Time-out</h1></center>\r\n<hr><center>nginx</center>\r\n</body>\r\n</html>",
     "output_type": "error",
     "traceback": [
      "\u001b[31m---------------------------------------------------------------------------\u001b[39m",
      "\u001b[31mInternalServerError\u001b[39m                       Traceback (most recent call last)",
      "\u001b[36mCell\u001b[39m\u001b[36m \u001b[39m\u001b[32mIn[8]\u001b[39m\u001b[32m, line 7\u001b[39m\n\u001b[32m      5\u001b[39m persist_path=\u001b[33m'\u001b[39m\u001b[33mvectordb/chroma\u001b[39m\u001b[33m'\u001b[39m\n\u001b[32m      6\u001b[39m embeddings = OpenAIEmbeddings()\n\u001b[32m----> \u001b[39m\u001b[32m7\u001b[39m vectordb = \u001b[43mChroma\u001b[49m\u001b[43m.\u001b[49m\u001b[43mfrom_documents\u001b[49m\u001b[43m(\u001b[49m\u001b[43mdocuments\u001b[49m\u001b[43m=\u001b[49m\u001b[43msplits\u001b[49m\u001b[43m,\u001b[49m\u001b[43m \u001b[49m\u001b[43membedding\u001b[49m\u001b[43m=\u001b[49m\u001b[43membeddings\u001b[49m\u001b[43m,\u001b[49m\u001b[43m \u001b[49m\u001b[43mpersist_directory\u001b[49m\u001b[43m=\u001b[49m\u001b[43mpersist_path\u001b[49m\u001b[43m)\u001b[49m\n\u001b[32m      8\u001b[39m vectordb.persist()\n",
      "\u001b[36mFile \u001b[39m\u001b[32mD:\\CS\\Project\\LLM\\index-rag-advanced\\venv\\Lib\\site-packages\\langchain_community\\vectorstores\\chroma.py:887\u001b[39m, in \u001b[36mChroma.from_documents\u001b[39m\u001b[34m(cls, documents, embedding, ids, collection_name, persist_directory, client_settings, client, collection_metadata, **kwargs)\u001b[39m\n\u001b[32m    885\u001b[39m texts = [doc.page_content \u001b[38;5;28;01mfor\u001b[39;00m doc \u001b[38;5;129;01min\u001b[39;00m documents]\n\u001b[32m    886\u001b[39m metadatas = [doc.metadata \u001b[38;5;28;01mfor\u001b[39;00m doc \u001b[38;5;129;01min\u001b[39;00m documents]\n\u001b[32m--> \u001b[39m\u001b[32m887\u001b[39m \u001b[38;5;28;01mreturn\u001b[39;00m \u001b[38;5;28;43mcls\u001b[39;49m\u001b[43m.\u001b[49m\u001b[43mfrom_texts\u001b[49m\u001b[43m(\u001b[49m\n\u001b[32m    888\u001b[39m \u001b[43m    \u001b[49m\u001b[43mtexts\u001b[49m\u001b[43m=\u001b[49m\u001b[43mtexts\u001b[49m\u001b[43m,\u001b[49m\n\u001b[32m    889\u001b[39m \u001b[43m    \u001b[49m\u001b[43membedding\u001b[49m\u001b[43m=\u001b[49m\u001b[43membedding\u001b[49m\u001b[43m,\u001b[49m\n\u001b[32m    890\u001b[39m \u001b[43m    \u001b[49m\u001b[43mmetadatas\u001b[49m\u001b[43m=\u001b[49m\u001b[43mmetadatas\u001b[49m\u001b[43m,\u001b[49m\n\u001b[32m    891\u001b[39m \u001b[43m    \u001b[49m\u001b[43mids\u001b[49m\u001b[43m=\u001b[49m\u001b[43mids\u001b[49m\u001b[43m,\u001b[49m\n\u001b[32m    892\u001b[39m \u001b[43m    \u001b[49m\u001b[43mcollection_name\u001b[49m\u001b[43m=\u001b[49m\u001b[43mcollection_name\u001b[49m\u001b[43m,\u001b[49m\n\u001b[32m    893\u001b[39m \u001b[43m    \u001b[49m\u001b[43mpersist_directory\u001b[49m\u001b[43m=\u001b[49m\u001b[43mpersist_directory\u001b[49m\u001b[43m,\u001b[49m\n\u001b[32m    894\u001b[39m \u001b[43m    \u001b[49m\u001b[43mclient_settings\u001b[49m\u001b[43m=\u001b[49m\u001b[43mclient_settings\u001b[49m\u001b[43m,\u001b[49m\n\u001b[32m    895\u001b[39m \u001b[43m    \u001b[49m\u001b[43mclient\u001b[49m\u001b[43m=\u001b[49m\u001b[43mclient\u001b[49m\u001b[43m,\u001b[49m\n\u001b[32m    896\u001b[39m \u001b[43m    \u001b[49m\u001b[43mcollection_metadata\u001b[49m\u001b[43m=\u001b[49m\u001b[43mcollection_metadata\u001b[49m\u001b[43m,\u001b[49m\n\u001b[32m    897\u001b[39m \u001b[43m    \u001b[49m\u001b[43m*\u001b[49m\u001b[43m*\u001b[49m\u001b[43mkwargs\u001b[49m\u001b[43m,\u001b[49m\n\u001b[32m    898\u001b[39m \u001b[43m\u001b[49m\u001b[43m)\u001b[49m\n",
      "\u001b[36mFile \u001b[39m\u001b[32mD:\\CS\\Project\\LLM\\index-rag-advanced\\venv\\Lib\\site-packages\\langchain_community\\vectorstores\\chroma.py:843\u001b[39m, in \u001b[36mChroma.from_texts\u001b[39m\u001b[34m(cls, texts, embedding, metadatas, ids, collection_name, persist_directory, client_settings, client, collection_metadata, **kwargs)\u001b[39m\n\u001b[32m    835\u001b[39m     \u001b[38;5;28;01mfrom\u001b[39;00m\u001b[38;5;250m \u001b[39m\u001b[34;01mchromadb\u001b[39;00m\u001b[34;01m.\u001b[39;00m\u001b[34;01mutils\u001b[39;00m\u001b[34;01m.\u001b[39;00m\u001b[34;01mbatch_utils\u001b[39;00m\u001b[38;5;250m \u001b[39m\u001b[38;5;28;01mimport\u001b[39;00m create_batches\n\u001b[32m    837\u001b[39m     \u001b[38;5;28;01mfor\u001b[39;00m batch \u001b[38;5;129;01min\u001b[39;00m create_batches(\n\u001b[32m    838\u001b[39m         api=chroma_collection._client,\n\u001b[32m    839\u001b[39m         ids=ids,\n\u001b[32m    840\u001b[39m         metadatas=metadatas,\n\u001b[32m    841\u001b[39m         documents=texts,\n\u001b[32m    842\u001b[39m     ):\n\u001b[32m--> \u001b[39m\u001b[32m843\u001b[39m         \u001b[43mchroma_collection\u001b[49m\u001b[43m.\u001b[49m\u001b[43madd_texts\u001b[49m\u001b[43m(\u001b[49m\n\u001b[32m    844\u001b[39m \u001b[43m            \u001b[49m\u001b[43mtexts\u001b[49m\u001b[43m=\u001b[49m\u001b[43mbatch\u001b[49m\u001b[43m[\u001b[49m\u001b[32;43m3\u001b[39;49m\u001b[43m]\u001b[49m\u001b[43m \u001b[49m\u001b[38;5;28;43;01mif\u001b[39;49;00m\u001b[43m \u001b[49m\u001b[43mbatch\u001b[49m\u001b[43m[\u001b[49m\u001b[32;43m3\u001b[39;49m\u001b[43m]\u001b[49m\u001b[43m \u001b[49m\u001b[38;5;28;43;01melse\u001b[39;49;00m\u001b[43m \u001b[49m\u001b[43m[\u001b[49m\u001b[43m]\u001b[49m\u001b[43m,\u001b[49m\n\u001b[32m    845\u001b[39m \u001b[43m            \u001b[49m\u001b[43mmetadatas\u001b[49m\u001b[43m=\u001b[49m\u001b[43mbatch\u001b[49m\u001b[43m[\u001b[49m\u001b[32;43m2\u001b[39;49m\u001b[43m]\u001b[49m\u001b[43m \u001b[49m\u001b[38;5;28;43;01mif\u001b[39;49;00m\u001b[43m \u001b[49m\u001b[43mbatch\u001b[49m\u001b[43m[\u001b[49m\u001b[32;43m2\u001b[39;49m\u001b[43m]\u001b[49m\u001b[43m \u001b[49m\u001b[38;5;28;43;01melse\u001b[39;49;00m\u001b[43m \u001b[49m\u001b[38;5;28;43;01mNone\u001b[39;49;00m\u001b[43m,\u001b[49m\n\u001b[32m    846\u001b[39m \u001b[43m            \u001b[49m\u001b[43mids\u001b[49m\u001b[43m=\u001b[49m\u001b[43mbatch\u001b[49m\u001b[43m[\u001b[49m\u001b[32;43m0\u001b[39;49m\u001b[43m]\u001b[49m\u001b[43m,\u001b[49m\n\u001b[32m    847\u001b[39m \u001b[43m        \u001b[49m\u001b[43m)\u001b[49m\n\u001b[32m    848\u001b[39m \u001b[38;5;28;01melse\u001b[39;00m:\n\u001b[32m    849\u001b[39m     chroma_collection.add_texts(texts=texts, metadatas=metadatas, ids=ids)\n",
      "\u001b[36mFile \u001b[39m\u001b[32mD:\\CS\\Project\\LLM\\index-rag-advanced\\venv\\Lib\\site-packages\\langchain_community\\vectorstores\\chroma.py:277\u001b[39m, in \u001b[36mChroma.add_texts\u001b[39m\u001b[34m(self, texts, metadatas, ids, **kwargs)\u001b[39m\n\u001b[32m    275\u001b[39m texts = \u001b[38;5;28mlist\u001b[39m(texts)\n\u001b[32m    276\u001b[39m \u001b[38;5;28;01mif\u001b[39;00m \u001b[38;5;28mself\u001b[39m._embedding_function \u001b[38;5;129;01mis\u001b[39;00m \u001b[38;5;129;01mnot\u001b[39;00m \u001b[38;5;28;01mNone\u001b[39;00m:\n\u001b[32m--> \u001b[39m\u001b[32m277\u001b[39m     embeddings = \u001b[38;5;28;43mself\u001b[39;49m\u001b[43m.\u001b[49m\u001b[43m_embedding_function\u001b[49m\u001b[43m.\u001b[49m\u001b[43membed_documents\u001b[49m\u001b[43m(\u001b[49m\u001b[43mtexts\u001b[49m\u001b[43m)\u001b[49m\n\u001b[32m    278\u001b[39m \u001b[38;5;28;01mif\u001b[39;00m metadatas:\n\u001b[32m    279\u001b[39m     \u001b[38;5;66;03m# fill metadatas with empty dicts if somebody\u001b[39;00m\n\u001b[32m    280\u001b[39m     \u001b[38;5;66;03m# did not specify metadata for all texts\u001b[39;00m\n\u001b[32m    281\u001b[39m     length_diff = \u001b[38;5;28mlen\u001b[39m(texts) - \u001b[38;5;28mlen\u001b[39m(metadatas)\n",
      "\u001b[36mFile \u001b[39m\u001b[32mD:\\CS\\Project\\LLM\\index-rag-advanced\\venv\\Lib\\site-packages\\langchain_openai\\embeddings\\base.py:590\u001b[39m, in \u001b[36mOpenAIEmbeddings.embed_documents\u001b[39m\u001b[34m(self, texts, chunk_size, **kwargs)\u001b[39m\n\u001b[32m    587\u001b[39m \u001b[38;5;66;03m# NOTE: to keep things simple, we assume the list may contain texts longer\u001b[39;00m\n\u001b[32m    588\u001b[39m \u001b[38;5;66;03m#       than the maximum context and use length-safe embedding function.\u001b[39;00m\n\u001b[32m    589\u001b[39m engine = cast(\u001b[38;5;28mstr\u001b[39m, \u001b[38;5;28mself\u001b[39m.deployment)\n\u001b[32m--> \u001b[39m\u001b[32m590\u001b[39m \u001b[38;5;28;01mreturn\u001b[39;00m \u001b[38;5;28;43mself\u001b[39;49m\u001b[43m.\u001b[49m\u001b[43m_get_len_safe_embeddings\u001b[49m\u001b[43m(\u001b[49m\n\u001b[32m    591\u001b[39m \u001b[43m    \u001b[49m\u001b[43mtexts\u001b[49m\u001b[43m,\u001b[49m\u001b[43m \u001b[49m\u001b[43mengine\u001b[49m\u001b[43m=\u001b[49m\u001b[43mengine\u001b[49m\u001b[43m,\u001b[49m\u001b[43m \u001b[49m\u001b[43mchunk_size\u001b[49m\u001b[43m=\u001b[49m\u001b[43mchunk_size\u001b[49m\u001b[43m,\u001b[49m\u001b[43m \u001b[49m\u001b[43m*\u001b[49m\u001b[43m*\u001b[49m\u001b[43mkwargs\u001b[49m\n\u001b[32m    592\u001b[39m \u001b[43m\u001b[49m\u001b[43m)\u001b[49m\n",
      "\u001b[36mFile \u001b[39m\u001b[32mD:\\CS\\Project\\LLM\\index-rag-advanced\\venv\\Lib\\site-packages\\langchain_openai\\embeddings\\base.py:478\u001b[39m, in \u001b[36mOpenAIEmbeddings._get_len_safe_embeddings\u001b[39m\u001b[34m(self, texts, engine, chunk_size, **kwargs)\u001b[39m\n\u001b[32m    476\u001b[39m batched_embeddings: \u001b[38;5;28mlist\u001b[39m[\u001b[38;5;28mlist\u001b[39m[\u001b[38;5;28mfloat\u001b[39m]] = []\n\u001b[32m    477\u001b[39m \u001b[38;5;28;01mfor\u001b[39;00m i \u001b[38;5;129;01min\u001b[39;00m _iter:\n\u001b[32m--> \u001b[39m\u001b[32m478\u001b[39m     response = \u001b[38;5;28;43mself\u001b[39;49m\u001b[43m.\u001b[49m\u001b[43mclient\u001b[49m\u001b[43m.\u001b[49m\u001b[43mcreate\u001b[49m\u001b[43m(\u001b[49m\n\u001b[32m    479\u001b[39m \u001b[43m        \u001b[49m\u001b[38;5;28;43minput\u001b[39;49m\u001b[43m=\u001b[49m\u001b[43mtokens\u001b[49m\u001b[43m[\u001b[49m\u001b[43mi\u001b[49m\u001b[43m \u001b[49m\u001b[43m:\u001b[49m\u001b[43m \u001b[49m\u001b[43mi\u001b[49m\u001b[43m \u001b[49m\u001b[43m+\u001b[49m\u001b[43m \u001b[49m\u001b[43m_chunk_size\u001b[49m\u001b[43m]\u001b[49m\u001b[43m,\u001b[49m\u001b[43m \u001b[49m\u001b[43m*\u001b[49m\u001b[43m*\u001b[49m\u001b[43mclient_kwargs\u001b[49m\n\u001b[32m    480\u001b[39m \u001b[43m    \u001b[49m\u001b[43m)\u001b[49m\n\u001b[32m    481\u001b[39m     \u001b[38;5;28;01mif\u001b[39;00m \u001b[38;5;129;01mnot\u001b[39;00m \u001b[38;5;28misinstance\u001b[39m(response, \u001b[38;5;28mdict\u001b[39m):\n\u001b[32m    482\u001b[39m         response = response.model_dump()\n",
      "\u001b[36mFile \u001b[39m\u001b[32mD:\\CS\\Project\\LLM\\index-rag-advanced\\venv\\Lib\\site-packages\\openai\\resources\\embeddings.py:129\u001b[39m, in \u001b[36mEmbeddings.create\u001b[39m\u001b[34m(self, input, model, dimensions, encoding_format, user, extra_headers, extra_query, extra_body, timeout)\u001b[39m\n\u001b[32m    123\u001b[39m             embedding.embedding = np.frombuffer(  \u001b[38;5;66;03m# type: ignore[no-untyped-call]\u001b[39;00m\n\u001b[32m    124\u001b[39m                 base64.b64decode(data), dtype=\u001b[33m\"\u001b[39m\u001b[33mfloat32\u001b[39m\u001b[33m\"\u001b[39m\n\u001b[32m    125\u001b[39m             ).tolist()\n\u001b[32m    127\u001b[39m     \u001b[38;5;28;01mreturn\u001b[39;00m obj\n\u001b[32m--> \u001b[39m\u001b[32m129\u001b[39m \u001b[38;5;28;01mreturn\u001b[39;00m \u001b[38;5;28;43mself\u001b[39;49m\u001b[43m.\u001b[49m\u001b[43m_post\u001b[49m\u001b[43m(\u001b[49m\n\u001b[32m    130\u001b[39m \u001b[43m    \u001b[49m\u001b[33;43m\"\u001b[39;49m\u001b[33;43m/embeddings\u001b[39;49m\u001b[33;43m\"\u001b[39;49m\u001b[43m,\u001b[49m\n\u001b[32m    131\u001b[39m \u001b[43m    \u001b[49m\u001b[43mbody\u001b[49m\u001b[43m=\u001b[49m\u001b[43mmaybe_transform\u001b[49m\u001b[43m(\u001b[49m\u001b[43mparams\u001b[49m\u001b[43m,\u001b[49m\u001b[43m \u001b[49m\u001b[43membedding_create_params\u001b[49m\u001b[43m.\u001b[49m\u001b[43mEmbeddingCreateParams\u001b[49m\u001b[43m)\u001b[49m\u001b[43m,\u001b[49m\n\u001b[32m    132\u001b[39m \u001b[43m    \u001b[49m\u001b[43moptions\u001b[49m\u001b[43m=\u001b[49m\u001b[43mmake_request_options\u001b[49m\u001b[43m(\u001b[49m\n\u001b[32m    133\u001b[39m \u001b[43m        \u001b[49m\u001b[43mextra_headers\u001b[49m\u001b[43m=\u001b[49m\u001b[43mextra_headers\u001b[49m\u001b[43m,\u001b[49m\n\u001b[32m    134\u001b[39m \u001b[43m        \u001b[49m\u001b[43mextra_query\u001b[49m\u001b[43m=\u001b[49m\u001b[43mextra_query\u001b[49m\u001b[43m,\u001b[49m\n\u001b[32m    135\u001b[39m \u001b[43m        \u001b[49m\u001b[43mextra_body\u001b[49m\u001b[43m=\u001b[49m\u001b[43mextra_body\u001b[49m\u001b[43m,\u001b[49m\n\u001b[32m    136\u001b[39m \u001b[43m        \u001b[49m\u001b[43mtimeout\u001b[49m\u001b[43m=\u001b[49m\u001b[43mtimeout\u001b[49m\u001b[43m,\u001b[49m\n\u001b[32m    137\u001b[39m \u001b[43m        \u001b[49m\u001b[43mpost_parser\u001b[49m\u001b[43m=\u001b[49m\u001b[43mparser\u001b[49m\u001b[43m,\u001b[49m\n\u001b[32m    138\u001b[39m \u001b[43m    \u001b[49m\u001b[43m)\u001b[49m\u001b[43m,\u001b[49m\n\u001b[32m    139\u001b[39m \u001b[43m    \u001b[49m\u001b[43mcast_to\u001b[49m\u001b[43m=\u001b[49m\u001b[43mCreateEmbeddingResponse\u001b[49m\u001b[43m,\u001b[49m\n\u001b[32m    140\u001b[39m \u001b[43m\u001b[49m\u001b[43m)\u001b[49m\n",
      "\u001b[36mFile \u001b[39m\u001b[32mD:\\CS\\Project\\LLM\\index-rag-advanced\\venv\\Lib\\site-packages\\openai\\_base_client.py:1239\u001b[39m, in \u001b[36mSyncAPIClient.post\u001b[39m\u001b[34m(self, path, cast_to, body, options, files, stream, stream_cls)\u001b[39m\n\u001b[32m   1225\u001b[39m \u001b[38;5;28;01mdef\u001b[39;00m\u001b[38;5;250m \u001b[39m\u001b[34mpost\u001b[39m(\n\u001b[32m   1226\u001b[39m     \u001b[38;5;28mself\u001b[39m,\n\u001b[32m   1227\u001b[39m     path: \u001b[38;5;28mstr\u001b[39m,\n\u001b[32m   (...)\u001b[39m\u001b[32m   1234\u001b[39m     stream_cls: \u001b[38;5;28mtype\u001b[39m[_StreamT] | \u001b[38;5;28;01mNone\u001b[39;00m = \u001b[38;5;28;01mNone\u001b[39;00m,\n\u001b[32m   1235\u001b[39m ) -> ResponseT | _StreamT:\n\u001b[32m   1236\u001b[39m     opts = FinalRequestOptions.construct(\n\u001b[32m   1237\u001b[39m         method=\u001b[33m\"\u001b[39m\u001b[33mpost\u001b[39m\u001b[33m\"\u001b[39m, url=path, json_data=body, files=to_httpx_files(files), **options\n\u001b[32m   1238\u001b[39m     )\n\u001b[32m-> \u001b[39m\u001b[32m1239\u001b[39m     \u001b[38;5;28;01mreturn\u001b[39;00m cast(ResponseT, \u001b[38;5;28;43mself\u001b[39;49m\u001b[43m.\u001b[49m\u001b[43mrequest\u001b[49m\u001b[43m(\u001b[49m\u001b[43mcast_to\u001b[49m\u001b[43m,\u001b[49m\u001b[43m \u001b[49m\u001b[43mopts\u001b[49m\u001b[43m,\u001b[49m\u001b[43m \u001b[49m\u001b[43mstream\u001b[49m\u001b[43m=\u001b[49m\u001b[43mstream\u001b[49m\u001b[43m,\u001b[49m\u001b[43m \u001b[49m\u001b[43mstream_cls\u001b[49m\u001b[43m=\u001b[49m\u001b[43mstream_cls\u001b[49m\u001b[43m)\u001b[49m)\n",
      "\u001b[36mFile \u001b[39m\u001b[32mD:\\CS\\Project\\LLM\\index-rag-advanced\\venv\\Lib\\site-packages\\openai\\_base_client.py:1034\u001b[39m, in \u001b[36mSyncAPIClient.request\u001b[39m\u001b[34m(self, cast_to, options, stream, stream_cls)\u001b[39m\n\u001b[32m   1031\u001b[39m             err.response.read()\n\u001b[32m   1033\u001b[39m         log.debug(\u001b[33m\"\u001b[39m\u001b[33mRe-raising status error\u001b[39m\u001b[33m\"\u001b[39m)\n\u001b[32m-> \u001b[39m\u001b[32m1034\u001b[39m         \u001b[38;5;28;01mraise\u001b[39;00m \u001b[38;5;28mself\u001b[39m._make_status_error_from_response(err.response) \u001b[38;5;28;01mfrom\u001b[39;00m\u001b[38;5;250m \u001b[39m\u001b[38;5;28;01mNone\u001b[39;00m\n\u001b[32m   1036\u001b[39m     \u001b[38;5;28;01mbreak\u001b[39;00m\n\u001b[32m   1038\u001b[39m \u001b[38;5;28;01massert\u001b[39;00m response \u001b[38;5;129;01mis\u001b[39;00m \u001b[38;5;129;01mnot\u001b[39;00m \u001b[38;5;28;01mNone\u001b[39;00m, \u001b[33m\"\u001b[39m\u001b[33mcould not resolve response (should never happen)\u001b[39m\u001b[33m\"\u001b[39m\n",
      "\u001b[31mInternalServerError\u001b[39m: <html>\r\n<head><title>504 Gateway Time-out</title></head>\r\n<body>\r\n<center><h1>504 Gateway Time-out</h1></center>\r\n<hr><center>nginx</center>\r\n</body>\r\n</html>"
     ]
    }
   ],
   "source": [
    "from langchain_openai import OpenAIEmbeddings\n",
    "from langchain_community.vectorstores import Chroma\n",
    "import os\n",
    "\n",
    "persist_path='vectordb/chroma'\n",
    "embeddings = OpenAIEmbeddings()\n",
    "vectordb = Chroma.from_documents(documents=splits, embedding=embeddings, persist_directory=persist_path)\n",
    "vectordb.persist()"
   ]
  },
  {
   "cell_type": "markdown",
   "id": "fbe60f45-89de-40b2-9a5f-988b2c39680a",
   "metadata": {},
   "source": [
    "# 4 Retrieval"
   ]
  },
  {
   "cell_type": "code",
   "execution_count": 12,
   "id": "bb982baa-7ed3-40a4-ac70-35a692dbe323",
   "metadata": {},
   "outputs": [],
   "source": [
    "from model import CustomChatModel\n",
    "\n",
    "# llm\n",
    "chat = CustomChatModel(api_key=API_KEY, base_url=BASE_URL, model=\"gpt-3.5-turbo\", temperature = 0.0)\n",
    "# retriever\n",
    "retriever = vectordb.as_retriever(search_type=\"similarity\", search_kwargs={'k': 10})  "
   ]
  },
  {
   "cell_type": "code",
   "execution_count": 13,
   "id": "4e5f76ad-875a-455d-b8fb-ebd4f82e039b",
   "metadata": {},
   "outputs": [
    {
     "data": {
      "text/plain": [
       "[Document(metadata={'source': 'books\\\\toaru\\\\[S1_06]某魔法的禁书目录 06X\\\\OEBPS\\\\Text\\\\S1_06-08_Epilogue.xhtml'}, page_content='所以，亚雷斯塔·克劳利成了全世界魔法师的敌人。想杀他的人并非只有擅长狩猎魔女的英国清教，而是所有只要跟魔法稍微扯得上一点边的人。\\n\\n史提尔跟亚雷斯塔见过面，却没看穿亚雷斯塔的真实身份，这是有理由的。英国清教追杀亚雷斯塔·克劳利，依据的是长年累月搜集到的情报，但这些情报都是亚雷斯塔刻意放出的假情报。既然原本的情报是错的，不管是以魔法或科学的方法来调查亚雷斯塔，也不可能找得到任何与亚雷斯塔·克劳利之间的关联性。换句话说，对英国清教而言，亚雷斯塔只是刚好同名同姓，或是使用了假名。'),\n",
       " Document(metadata={'source': 'books\\\\toaru\\\\[S1_06]某魔法的禁书目录 06X\\\\OEBPS\\\\Text\\\\S1_06-08_Epilogue.xhtml'}, page_content='所以，亚雷斯塔·克劳利成了全世界魔法师的敌人。想杀他的人并非只有擅长狩猎魔女的英国清教，而是所有只要跟魔法稍微扯得上一点边的人。\\n\\n史提尔跟亚雷斯塔见过面，却没看穿亚雷斯塔的真实身份，这是有理由的。英国清教追杀亚雷斯塔·克劳利，依据的是长年累月搜集到的情报，但这些情报都是亚雷斯塔刻意放出的假情报。既然原本的情报是错的，不管是以魔法或科学的方法来调查亚雷斯塔，也不可能找得到任何与亚雷斯塔·克劳利之间的关联性。换句话说，对英国清教而言，亚雷斯塔只是刚好同名同姓，或是使用了假名。'),\n",
       " Document(metadata={'source': 'books\\\\toaru\\\\[S1_06]某魔法的禁书目录 06X\\\\OEBPS\\\\Text\\\\S1_06-08_Epilogue.xhtml'}, page_content='「别做些无聊的妄想。我并不打算与教会世界为敌。何况如果要创造出你所想的那个人造天界，就必须先对真正的天国有所理解才行。那是魔法世界的领域，不是我这个站在科学立场的人可以理解的。」\\n\\n「你当我是三岁小孩？这个星球上，难道有人比你更了解魔法？」\\n\\n土御门扭曲着嘴角说道：\\n\\n「魔法师亚雷斯塔·克劳利……」\\n\\n在二十世纪时，存在一个历史上最伟大的魔法师。\\n\\n公认为他是全世界最优秀的魔法师，但同时也被视为对魔法给予最大侮辱的魔法师。\\n\\n他对魔法所做的那个全世界最大的侮辱，在漫长的历史中，从来没有任何一个魔法师做过。'),\n",
       " Document(metadata={'source': 'books\\\\toaru\\\\[S1_06]某魔法的禁书目录 06X\\\\OEBPS\\\\Text\\\\S1_06-08_Epilogue.xhtml'}, page_content='「别做些无聊的妄想。我并不打算与教会世界为敌。何况如果要创造出你所想的那个人造天界，就必须先对真正的天国有所理解才行。那是魔法世界的领域，不是我这个站在科学立场的人可以理解的。」\\n\\n「你当我是三岁小孩？这个星球上，难道有人比你更了解魔法？」\\n\\n土御门扭曲着嘴角说道：\\n\\n「魔法师亚雷斯塔·克劳利……」\\n\\n在二十世纪时，存在一个历史上最伟大的魔法师。\\n\\n公认为他是全世界最优秀的魔法师，但同时也被视为对魔法给予最大侮辱的魔法师。\\n\\n他对魔法所做的那个全世界最大的侮辱，在漫长的历史中，从来没有任何一个魔法师做过。')]"
      ]
     },
     "execution_count": 13,
     "metadata": {},
     "output_type": "execute_result"
    }
   ],
   "source": [
    "retriever.invoke(\"介绍一下亚雷斯塔·克劳利\")"
   ]
  },
  {
   "cell_type": "code",
   "execution_count": 14,
   "id": "f6d96c2a-fb4a-478b-bc09-c03c8354eca1",
   "metadata": {},
   "outputs": [
    {
     "data": {
      "text/plain": [
       "[Document(metadata={'source': 'books\\\\toaru\\\\[S1_02]某魔法的禁书目录 02X\\\\OEBPS\\\\Text\\\\S1_02-04_Chapter2.xhtml'}, page_content='脚步声在距离史提尔大约十米远的走廊上停止。\\n\\n史提尔轻轻笑了一下，然后转头看着脚步声的主人。\\n\\n他的眼神，已经不再带着丝毫微笑。\\n\\n这个脚步声，出自于一双意大利制的皮鞋。皮鞋上方的修长双脚，以及长达两米的修长身躯，都被包裹在昂贵而洁白的西装里。\\n\\n年龄十八岁，性别为男性。名为奥雷欧斯。\\n\\n他的发色是绿色的。这个硬染出来的颜色，象征着这个男人所掌控的五大元素之一「土」的。大背头的发型，让皮肤跟穿着都非常白皙的男人，看起来更加独特。'),\n",
       " Document(metadata={'source': 'books\\\\toaru\\\\[S1_02]某魔法的禁书目录 02X\\\\OEBPS\\\\Text\\\\S1_02-04_Chapter2.xhtml'}, page_content='脚步声在距离史提尔大约十米远的走廊上停止。\\n\\n史提尔轻轻笑了一下，然后转头看着脚步声的主人。\\n\\n他的眼神，已经不再带着丝毫微笑。\\n\\n这个脚步声，出自于一双意大利制的皮鞋。皮鞋上方的修长双脚，以及长达两米的修长身躯，都被包裹在昂贵而洁白的西装里。\\n\\n年龄十八岁，性别为男性。名为奥雷欧斯。\\n\\n他的发色是绿色的。这个硬染出来的颜色，象征着这个男人所掌控的五大元素之一「土」的。大背头的发型，让皮肤跟穿着都非常白皙的男人，看起来更加独特。'),\n",
       " Document(metadata={'source': 'books\\\\toaru\\\\[S1_02]某魔法的禁书目录 02X\\\\OEBPS\\\\Text\\\\S1_02-04_Chapter2.xhtml'}, page_content='就像用灼热的刀子切割奶油般，非常地滑顺。\\n\\n被三千度火焰所烧过的断面已经碳化，甚至没有流血。\\n\\n「呜……啊……」\\n\\n但是，支配着奥雷欧斯的思绪的，并不是肉体的疼痛。\\n\\n『还有，你自己应该也很清楚才对。真正的奥雷欧斯·伊萨德，怎么可能这么简单就输了？』\\n\\n史提尔的话如同巨大的钟声般，在撼动着他的脑袋。没错。奥雷欧斯·伊萨德是绝对的，是无敌的，是必胜的，是压倒性的。从来不知道什么叫失败，从来不知道什么叫逃走，可以说是一个完美的圣人。\\n\\n但是，自己现在的丑态又是怎么回事？'),\n",
       " Document(metadata={'source': 'books\\\\toaru\\\\[S1_02]某魔法的禁书目录 02X\\\\OEBPS\\\\Text\\\\S1_02-04_Chapter2.xhtml'}, page_content='就像用灼热的刀子切割奶油般，非常地滑顺。\\n\\n被三千度火焰所烧过的断面已经碳化，甚至没有流血。\\n\\n「呜……啊……」\\n\\n但是，支配着奥雷欧斯的思绪的，并不是肉体的疼痛。\\n\\n『还有，你自己应该也很清楚才对。真正的奥雷欧斯·伊萨德，怎么可能这么简单就输了？』\\n\\n史提尔的话如同巨大的钟声般，在撼动着他的脑袋。没错。奥雷欧斯·伊萨德是绝对的，是无敌的，是必胜的，是压倒性的。从来不知道什么叫失败，从来不知道什么叫逃走，可以说是一个完美的圣人。\\n\\n但是，自己现在的丑态又是怎么回事？')]"
      ]
     },
     "execution_count": 14,
     "metadata": {},
     "output_type": "execute_result"
    }
   ],
   "source": [
    "retriever.invoke(\"介绍一下欧提努斯\")"
   ]
  },
  {
   "cell_type": "code",
   "execution_count": null,
   "id": "b65c3995-b42c-4eea-8c98-3bec156cfdc0",
   "metadata": {},
   "outputs": [],
   "source": []
  }
 ],
 "metadata": {
  "kernelspec": {
   "display_name": "Python 3 (ipykernel)",
   "language": "python",
   "name": "python3"
  },
  "language_info": {
   "codemirror_mode": {
    "name": "ipython",
    "version": 3
   },
   "file_extension": ".py",
   "mimetype": "text/x-python",
   "name": "python",
   "nbconvert_exporter": "python",
   "pygments_lexer": "ipython3",
   "version": "3.11.7"
  }
 },
 "nbformat": 4,
 "nbformat_minor": 5
}
